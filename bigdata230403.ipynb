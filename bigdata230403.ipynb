{
  "nbformat": 4,
  "nbformat_minor": 0,
  "metadata": {
    "colab": {
      "provenance": [],
      "mount_file_id": "1b4I5O-pkzqmxzu_ayKlQ9-51UfneuTCw",
      "authorship_tag": "ABX9TyNYvaXq2/qX4uzdaGdTn5RF",
      "include_colab_link": true
    },
    "kernelspec": {
      "name": "python3",
      "display_name": "Python 3"
    },
    "language_info": {
      "name": "python"
    }
  },
  "cells": [
    {
      "cell_type": "markdown",
      "metadata": {
        "id": "view-in-github",
        "colab_type": "text"
      },
      "source": [
        "<a href=\"https://colab.research.google.com/github/leehaegon/bigdata/blob/main/bigdata230403.ipynb\" target=\"_parent\"><img src=\"https://colab.research.google.com/assets/colab-badge.svg\" alt=\"Open In Colab\"/></a>"
      ]
    },
    {
      "cell_type": "code",
      "execution_count": 11,
      "metadata": {
        "colab": {
          "base_uri": "https://localhost:8080/"
        },
        "id": "fmMi0OcZvXrs",
        "outputId": "0e676a8d-cb54-448d-e138-af327fee2f43"
      },
      "outputs": [
        {
          "output_type": "stream",
          "name": "stdout",
          "text": [
            "    0  1\n",
            "0  엄마  5\n",
            "1  아빠  3\n",
            "2   나  1\n",
            "3  동생  2\n"
          ]
        }
      ],
      "source": [
        "key1 = ['엄마', '아빠', '나', '동생']\n",
        "key2 = ['삼촌', '나', '동생', '이모']\n",
        "val1 = [5, 3, 1, 2]\n",
        "val2 = [3, 4, 6, 3]\n",
        "import pandas as pd\n",
        "df1 = pd.DataFrame([key1,val1]).T\n",
        "print(df1)"
      ]
    },
    {
      "cell_type": "code",
      "source": [
        "df1.columns = ['key', '사과']\n",
        "print(df1.columns)"
      ],
      "metadata": {
        "colab": {
          "base_uri": "https://localhost:8080/"
        },
        "id": "97Q3jy43zwOZ",
        "outputId": "2d766f59-19e7-4448-83ac-65fb137f5e54"
      },
      "execution_count": 12,
      "outputs": [
        {
          "output_type": "stream",
          "name": "stdout",
          "text": [
            "Index(['key', '사과'], dtype='object')\n"
          ]
        }
      ]
    },
    {
      "cell_type": "code",
      "source": [
        "df1 = df1.set_index('key')\n",
        "print(df1)"
      ],
      "metadata": {
        "colab": {
          "base_uri": "https://localhost:8080/"
        },
        "id": "csUiWLocz8kQ",
        "outputId": "80291d3e-2dc6-41c8-fddc-91475b40761f"
      },
      "execution_count": 13,
      "outputs": [
        {
          "output_type": "stream",
          "name": "stdout",
          "text": [
            "    사과\n",
            "key   \n",
            "엄마   5\n",
            "아빠   3\n",
            "나    1\n",
            "동생   2\n"
          ]
        }
      ]
    },
    {
      "cell_type": "code",
      "source": [
        "df2=pd.DataFrame([key2,val2]).T\n",
        "df2.columns=['key','바나나']\n",
        "df2=df2.set_index('key')\n",
        "print(df2)"
      ],
      "metadata": {
        "colab": {
          "base_uri": "https://localhost:8080/"
        },
        "id": "M2jPXVAS0btI",
        "outputId": "b2741333-b20a-4b2a-c163-0fca63b1d34c"
      },
      "execution_count": 14,
      "outputs": [
        {
          "output_type": "stream",
          "name": "stdout",
          "text": [
            "    바나나\n",
            "key    \n",
            "삼촌    3\n",
            "나     4\n",
            "동생    6\n",
            "이모    3\n"
          ]
        }
      ]
    },
    {
      "cell_type": "code",
      "source": [
        "df_ = pd.concat([df1,df2], axis = 1)\n",
        "print(df_)"
      ],
      "metadata": {
        "colab": {
          "base_uri": "https://localhost:8080/"
        },
        "id": "nYSoJDMj0VIo",
        "outputId": "c306c96e-e838-46bd-e688-dce27a9d2465"
      },
      "execution_count": 15,
      "outputs": [
        {
          "output_type": "stream",
          "name": "stdout",
          "text": [
            "      사과  바나나\n",
            "key          \n",
            "엄마     5  NaN\n",
            "아빠     3  NaN\n",
            "나      1    4\n",
            "동생     2    6\n",
            "삼촌   NaN    3\n",
            "이모   NaN    3\n"
          ]
        }
      ]
    },
    {
      "cell_type": "code",
      "source": [
        "df_=pd.concat([df1,df2], axis=0)\n",
        "print(df_.groupby(df_.index).sum())"
      ],
      "metadata": {
        "colab": {
          "base_uri": "https://localhost:8080/"
        },
        "id": "JlsckfpB0XoH",
        "outputId": "ce11634d-8658-4745-c91a-8948562fefe2"
      },
      "execution_count": 18,
      "outputs": [
        {
          "output_type": "stream",
          "name": "stdout",
          "text": [
            "     사과  바나나\n",
            "key         \n",
            "나     1    4\n",
            "동생    2    6\n",
            "삼촌    0    3\n",
            "아빠    3    0\n",
            "엄마    5    0\n",
            "이모    0    3\n"
          ]
        }
      ]
    },
    {
      "cell_type": "code",
      "source": [
        "import pandas as pd\n",
        "tmp = pd.read_csv('/content/drive/MyDrive/Colab Notebooks/graph.csv',sep = ',')\n",
        "gdp = pd.read_csv('/content/drive/MyDrive/Colab Notebooks/복사본 API_NY.GDP.MKTP.CD_DS2_en_csv_v2_5358352.csv',sep=',')\n",
        "print(tmp.head())\n",
        "print(gdp.head())"
      ],
      "metadata": {
        "colab": {
          "base_uri": "https://localhost:8080/"
        },
        "id": "pZAmjWUG2JCY",
        "outputId": "8ea9cbed-8a34-4f73-ce68-50474c54ca85"
      },
      "execution_count": 24,
      "outputs": [
        {
          "output_type": "stream",
          "name": "stdout",
          "text": [
            "   1880  -0.17  -0.09\n",
            "0  1881  -0.08  -0.13\n",
            "1  1882  -0.11  -0.17\n",
            "2  1883  -0.17  -0.20\n",
            "3  1884  -0.28  -0.24\n",
            "4  1885  -0.33  -0.26\n",
            "                  Country Name Country Code     Indicator Name  \\\n",
            "0                        Aruba          ABW  GDP (current US$)   \n",
            "1  Africa Eastern and Southern          AFE  GDP (current US$)   \n",
            "2                  Afghanistan          AFG  GDP (current US$)   \n",
            "3   Africa Western and Central          AFW  GDP (current US$)   \n",
            "4                       Angola          AGO  GDP (current US$)   \n",
            "\n",
            "   Indicator Code          1960          1961          1962          1963  \\\n",
            "0  NY.GDP.MKTP.CD           NaN           NaN           NaN           NaN   \n",
            "1  NY.GDP.MKTP.CD  2.129150e+10  2.180940e+10  2.370810e+10  2.821130e+10   \n",
            "2  NY.GDP.MKTP.CD  5.377778e+08  5.488889e+08  5.466667e+08  7.511112e+08   \n",
            "3  NY.GDP.MKTP.CD  1.040410e+10  1.112790e+10  1.194320e+10  1.267630e+10   \n",
            "4  NY.GDP.MKTP.CD           NaN           NaN           NaN           NaN   \n",
            "\n",
            "           1964          1965  ...          2012          2013          2014  \\\n",
            "0           NaN           NaN  ...  2.615084e+09  2.727933e+09  2.791061e+09   \n",
            "1  2.611990e+10  2.968350e+10  ...  9.720020e+11  9.826770e+11  1.003400e+12   \n",
            "2  8.000000e+08  1.006667e+09  ...  2.020360e+10  2.056450e+10  2.055060e+10   \n",
            "3  1.383840e+10  1.486220e+10  ...  7.360400e+11  8.322170e+11  8.924980e+11   \n",
            "4           NaN           NaN  ...  1.249980e+11  1.334020e+11  1.372440e+11   \n",
            "\n",
            "           2015          2016          2017          2018          2019  \\\n",
            "0  2.963128e+09  2.983799e+09  3.092179e+09  3.202235e+09  3.368970e+09   \n",
            "1  9.231440e+11  8.898590e+11  1.030480e+12  1.016700e+12  1.009050e+12   \n",
            "2  1.999820e+10  1.801960e+10  1.889640e+10  1.841880e+10  1.890450e+10   \n",
            "3  7.669580e+11  6.905450e+11  6.837480e+11  7.663600e+11  7.947190e+11   \n",
            "4  8.721930e+10  4.984050e+10  6.897280e+10  7.779290e+10  6.930910e+10   \n",
            "\n",
            "           2020          2021  \n",
            "0  2.610039e+09  3.126019e+09  \n",
            "1  9.341790e+11  1.089450e+12  \n",
            "2  2.014340e+10  1.478690e+10  \n",
            "3  7.848000e+11  8.401870e+11  \n",
            "4  5.361910e+10  6.740430e+10  \n",
            "\n",
            "[5 rows x 66 columns]\n"
          ]
        }
      ]
    }
  ]
}