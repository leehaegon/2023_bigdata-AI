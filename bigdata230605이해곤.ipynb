{
  "nbformat": 4,
  "nbformat_minor": 0,
  "metadata": {
    "colab": {
      "provenance": [],
      "authorship_tag": "ABX9TyN2wNTlkau67yMyXCrW+T59",
      "include_colab_link": true
    },
    "kernelspec": {
      "name": "python3",
      "display_name": "Python 3"
    },
    "language_info": {
      "name": "python"
    }
  },
  "cells": [
    {
      "cell_type": "markdown",
      "metadata": {
        "id": "view-in-github",
        "colab_type": "text"
      },
      "source": [
        "<a href=\"https://colab.research.google.com/github/leehaegon/bigdata/blob/main/bigdata230605%EC%9D%B4%ED%95%B4%EA%B3%A4.ipynb\" target=\"_parent\"><img src=\"https://colab.research.google.com/assets/colab-badge.svg\" alt=\"Open In Colab\"/></a>"
      ]
    },
    {
      "cell_type": "code",
      "execution_count": null,
      "metadata": {
        "id": "hN7-N4I9L7rK",
        "colab": {
          "base_uri": "https://localhost:8080/"
        },
        "outputId": "fcec80c4-325c-48c9-c64c-bb0d5ce81457"
      },
      "outputs": [
        {
          "output_type": "stream",
          "name": "stdout",
          "text": [
            "IQR: 30.0\n",
            "upper outlier step: 15.0\n",
            "lower outlier step: 135.0\n",
            "lower outliers: [10]\n",
            "upper outliers: [150]\n"
          ]
        }
      ],
      "source": [
        "import numpy as np\n",
        "value = np.array([80, 40, 100, 10, 90, 60, 80, 90, 60, 150])\n",
        "Q1 = np.percentile(value, 25)\n",
        "Q3 = np.percentile(value, 75)\n",
        "\n",
        "IQR = Q3 - Q1\n",
        "print('IQR:', IQR)\n",
        "\n",
        "outlier_step = 1.5 * IQR\n",
        "print('upper outlier step:', Q1 - outlier_step)\n",
        "print('lower outlier step:', Q3 + outlier_step)\n",
        "lower_outliers = value[value < Q1 - outlier_step]\n",
        "upper_outliers = value[value > Q3 + outlier_step]\n",
        "print('lower outliers:', lower_outliers)\n",
        "print('upper outliers:', upper_outliers)"
      ]
    },
    {
      "cell_type": "code",
      "source": [
        "#np.nan"
      ],
      "metadata": {
        "id": "6GzIxtiVU0Dp"
      },
      "execution_count": null,
      "outputs": []
    },
    {
      "cell_type": "code",
      "source": [
        "#multicollinearity(다중공선성)-여러개의 컬럼이 선형성이 있는가"
      ],
      "metadata": {
        "id": "mN4rhPFEVeXA"
      },
      "execution_count": null,
      "outputs": []
    }
  ]
}