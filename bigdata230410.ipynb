{
  "nbformat": 4,
  "nbformat_minor": 0,
  "metadata": {
    "colab": {
      "provenance": [],
      "mount_file_id": "1NofJC1kgxS0YHSyhzvgyYx7ELChiT-qK",
      "authorship_tag": "ABX9TyMvdskOCRbARVsxGxKYq3lS",
      "include_colab_link": true
    },
    "kernelspec": {
      "name": "python3",
      "display_name": "Python 3"
    },
    "language_info": {
      "name": "python"
    }
  },
  "cells": [
    {
      "cell_type": "markdown",
      "metadata": {
        "id": "view-in-github",
        "colab_type": "text"
      },
      "source": [
        "<a href=\"https://colab.research.google.com/github/leehaegon/bigdata/blob/main/bigdata230410.ipynb\" target=\"_parent\"><img src=\"https://colab.research.google.com/assets/colab-badge.svg\" alt=\"Open In Colab\"/></a>"
      ]
    },
    {
      "cell_type": "code",
      "execution_count": 120,
      "metadata": {
        "colab": {
          "base_uri": "https://localhost:8080/"
        },
        "id": "fmMi0OcZvXrs",
        "outputId": "0c5bbfc4-a5f9-463c-beac-91cab4538852"
      },
      "outputs": [
        {
          "output_type": "stream",
          "name": "stdout",
          "text": [
            "    0  1\n",
            "0  엄마  5\n",
            "1  아빠  3\n",
            "2   나  1\n",
            "3  동생  2\n"
          ]
        }
      ],
      "source": [
        "key1 = ['엄마', '아빠', '나', '동생']\n",
        "key2 = ['삼촌', '나', '동생', '이모']\n",
        "val1 = [5, 3, 1, 2]\n",
        "val2 = [3, 4, 6, 3]\n",
        "import pandas as pd\n",
        "df1 = pd.DataFrame([key1,val1]).T\n",
        "print(df1)"
      ]
    },
    {
      "cell_type": "code",
      "source": [
        "df1.columns = ['key', '사과']\n",
        "print(df1.columns)"
      ],
      "metadata": {
        "colab": {
          "base_uri": "https://localhost:8080/"
        },
        "id": "97Q3jy43zwOZ",
        "outputId": "61768373-c784-417e-ba66-f5d7c8595050"
      },
      "execution_count": 121,
      "outputs": [
        {
          "output_type": "stream",
          "name": "stdout",
          "text": [
            "Index(['key', '사과'], dtype='object')\n"
          ]
        }
      ]
    },
    {
      "cell_type": "code",
      "source": [
        "df1 = df1.set_index('key')\n",
        "print(df1)"
      ],
      "metadata": {
        "colab": {
          "base_uri": "https://localhost:8080/"
        },
        "id": "csUiWLocz8kQ",
        "outputId": "e53ec246-62bb-4cc0-967e-df842c4e4123"
      },
      "execution_count": 122,
      "outputs": [
        {
          "output_type": "stream",
          "name": "stdout",
          "text": [
            "    사과\n",
            "key   \n",
            "엄마   5\n",
            "아빠   3\n",
            "나    1\n",
            "동생   2\n"
          ]
        }
      ]
    },
    {
      "cell_type": "code",
      "source": [
        "df2=pd.DataFrame([key2,val2]).T\n",
        "df2.columns=['key','바나나']\n",
        "df2=df2.set_index('key')\n",
        "print(df2)"
      ],
      "metadata": {
        "colab": {
          "base_uri": "https://localhost:8080/"
        },
        "id": "M2jPXVAS0btI",
        "outputId": "d3ec2af0-c9bf-4320-bd2e-4f927ad32429"
      },
      "execution_count": 123,
      "outputs": [
        {
          "output_type": "stream",
          "name": "stdout",
          "text": [
            "    바나나\n",
            "key    \n",
            "삼촌    3\n",
            "나     4\n",
            "동생    6\n",
            "이모    3\n"
          ]
        }
      ]
    },
    {
      "cell_type": "code",
      "source": [
        "df_ = pd.concat([df1,df2], axis = 1)\n",
        "print(df_)"
      ],
      "metadata": {
        "colab": {
          "base_uri": "https://localhost:8080/"
        },
        "id": "nYSoJDMj0VIo",
        "outputId": "0418a20e-bc14-4767-d390-9899ff964ba3"
      },
      "execution_count": 124,
      "outputs": [
        {
          "output_type": "stream",
          "name": "stdout",
          "text": [
            "      사과  바나나\n",
            "key          \n",
            "엄마     5  NaN\n",
            "아빠     3  NaN\n",
            "나      1    4\n",
            "동생     2    6\n",
            "삼촌   NaN    3\n",
            "이모   NaN    3\n"
          ]
        }
      ]
    },
    {
      "cell_type": "code",
      "source": [
        "df_=pd.concat([df1,df2], axis=0)\n",
        "print(df_.groupby(df_.index).sum())"
      ],
      "metadata": {
        "colab": {
          "base_uri": "https://localhost:8080/"
        },
        "id": "JlsckfpB0XoH",
        "outputId": "e2412151-b216-4a93-d537-e97dfdd609ba"
      },
      "execution_count": 125,
      "outputs": [
        {
          "output_type": "stream",
          "name": "stdout",
          "text": [
            "     사과  바나나\n",
            "key         \n",
            "나     1    4\n",
            "동생    2    6\n",
            "삼촌    0    3\n",
            "아빠    3    0\n",
            "엄마    5    0\n",
            "이모    0    3\n"
          ]
        }
      ]
    },
    {
      "cell_type": "code",
      "source": [
        "import pandas as pd\n",
        "tmp = pd.read_csv('/content/drive/MyDrive/Colab Notebooks/빅데이터와인공지능/graph.csv',sep = ',')\n",
        "gdp = pd.read_csv('/content/drive/MyDrive/Colab Notebooks/빅데이터와인공지능/복사본 API_NY.GDP.MKTP.CD_DS2_en_csv_v2_5358352.csv',sep=',')\n",
        "print(tmp.head())\n",
        "print(gdp.head())"
      ],
      "metadata": {
        "colab": {
          "base_uri": "https://localhost:8080/"
        },
        "id": "pZAmjWUG2JCY",
        "outputId": "c697c397-6472-47bd-a8c9-a47d751e28e5"
      },
      "execution_count": 126,
      "outputs": [
        {
          "output_type": "stream",
          "name": "stdout",
          "text": [
            "   1880  -0.17  -0.09\n",
            "0  1881  -0.08  -0.13\n",
            "1  1882  -0.11  -0.17\n",
            "2  1883  -0.17  -0.20\n",
            "3  1884  -0.28  -0.24\n",
            "4  1885  -0.33  -0.26\n",
            "                  Country Name Country Code     Indicator Name  \\\n",
            "0                        Aruba          ABW  GDP (current US$)   \n",
            "1  Africa Eastern and Southern          AFE  GDP (current US$)   \n",
            "2                  Afghanistan          AFG  GDP (current US$)   \n",
            "3   Africa Western and Central          AFW  GDP (current US$)   \n",
            "4                       Angola          AGO  GDP (current US$)   \n",
            "\n",
            "   Indicator Code          1960          1961          1962          1963  \\\n",
            "0  NY.GDP.MKTP.CD           NaN           NaN           NaN           NaN   \n",
            "1  NY.GDP.MKTP.CD  2.129150e+10  2.180940e+10  2.370810e+10  2.821130e+10   \n",
            "2  NY.GDP.MKTP.CD  5.377778e+08  5.488889e+08  5.466667e+08  7.511112e+08   \n",
            "3  NY.GDP.MKTP.CD  1.040410e+10  1.112790e+10  1.194320e+10  1.267630e+10   \n",
            "4  NY.GDP.MKTP.CD           NaN           NaN           NaN           NaN   \n",
            "\n",
            "           1964          1965  ...          2012          2013          2014  \\\n",
            "0           NaN           NaN  ...  2.615084e+09  2.727933e+09  2.791061e+09   \n",
            "1  2.611990e+10  2.968350e+10  ...  9.720020e+11  9.826770e+11  1.003400e+12   \n",
            "2  8.000000e+08  1.006667e+09  ...  2.020360e+10  2.056450e+10  2.055060e+10   \n",
            "3  1.383840e+10  1.486220e+10  ...  7.360400e+11  8.322170e+11  8.924980e+11   \n",
            "4           NaN           NaN  ...  1.249980e+11  1.334020e+11  1.372440e+11   \n",
            "\n",
            "           2015          2016          2017          2018          2019  \\\n",
            "0  2.963128e+09  2.983799e+09  3.092179e+09  3.202235e+09  3.368970e+09   \n",
            "1  9.231440e+11  8.898590e+11  1.030480e+12  1.016700e+12  1.009050e+12   \n",
            "2  1.999820e+10  1.801960e+10  1.889640e+10  1.841880e+10  1.890450e+10   \n",
            "3  7.669580e+11  6.905450e+11  6.837480e+11  7.663600e+11  7.947190e+11   \n",
            "4  8.721930e+10  4.984050e+10  6.897280e+10  7.779290e+10  6.930910e+10   \n",
            "\n",
            "           2020          2021  \n",
            "0  2.610039e+09  3.126019e+09  \n",
            "1  9.341790e+11  1.089450e+12  \n",
            "2  2.014340e+10  1.478690e+10  \n",
            "3  7.848000e+11  8.401870e+11  \n",
            "4  5.361910e+10  6.740430e+10  \n",
            "\n",
            "[5 rows x 66 columns]\n"
          ]
        }
      ]
    },
    {
      "cell_type": "code",
      "source": [
        "gdp_sum = gdp.sum(axis = 0)\n",
        "print(gdp_sum)"
      ],
      "metadata": {
        "id": "3Nj0FtDBzp_S",
        "colab": {
          "base_uri": "https://localhost:8080/"
        },
        "outputId": "5a7bc2ee-bbbb-456d-9792-cb04e4a4922c"
      },
      "execution_count": 127,
      "outputs": [
        {
          "output_type": "stream",
          "name": "stdout",
          "text": [
            "Country Name      ArubaAfrica Eastern and SouthernAfghanistanAfr...\n",
            "Country Code      ABWAFEAFGAFWAGOALBANDARBAREARGARMASMATGAUSAUTA...\n",
            "Indicator Name    GDP (current US$)GDP (current US$)GDP (current...\n",
            "Indicator Code    NY.GDP.MKTP.CDNY.GDP.MKTP.CDNY.GDP.MKTP.CDNY.G...\n",
            "1960                                           9518432021034.720703\n",
            "                                        ...                        \n",
            "2017                                             673319593022841.75\n",
            "2018                                            715369906175107.875\n",
            "2019                                              725547439367939.0\n",
            "2020                                             703154445622073.75\n",
            "2021                                             802770879405363.75\n",
            "Length: 66, dtype: object\n"
          ]
        }
      ]
    },
    {
      "cell_type": "code",
      "source": [
        "gdp_sum = gdp_sum[4:]"
      ],
      "metadata": {
        "id": "AwSGpKTx00aU"
      },
      "execution_count": 128,
      "outputs": []
    },
    {
      "cell_type": "code",
      "source": [
        "gdp_df = pd.DataFrame(gdp_sum)"
      ],
      "metadata": {
        "id": "NcE6jm9S5LkT"
      },
      "execution_count": 129,
      "outputs": []
    },
    {
      "cell_type": "code",
      "source": [
        "print(gdp_df)"
      ],
      "metadata": {
        "colab": {
          "base_uri": "https://localhost:8080/"
        },
        "id": "T99uHpka1oGy",
        "outputId": "42676143-8a89-4ede-9520-927cca78a3e9"
      },
      "execution_count": 130,
      "outputs": [
        {
          "output_type": "stream",
          "name": "stdout",
          "text": [
            "                          0\n",
            "1960   9518432021034.720703\n",
            "1961   9773783201397.189453\n",
            "1962  10418785097216.972656\n",
            "1963  11239384846406.808594\n",
            "1964  12339126712292.759766\n",
            "...                     ...\n",
            "2017     673319593022841.75\n",
            "2018    715369906175107.875\n",
            "2019      725547439367939.0\n",
            "2020     703154445622073.75\n",
            "2021     802770879405363.75\n",
            "\n",
            "[62 rows x 1 columns]\n"
          ]
        }
      ]
    },
    {
      "cell_type": "code",
      "source": [
        "tmp.columns = ['year','tmp1','tmp2']\n",
        "tmp = tmp.set_index('year')"
      ],
      "metadata": {
        "id": "aHCjznbT1tRp"
      },
      "execution_count": 131,
      "outputs": []
    },
    {
      "cell_type": "code",
      "source": [
        "tmp_gdp = pd.concat([tmp, gdp_df], axis = 1)\n",
        "print(tmp_gdp)"
      ],
      "metadata": {
        "colab": {
          "base_uri": "https://localhost:8080/"
        },
        "id": "J2p0o3M_18dR",
        "outputId": "bd2cf674-0701-4450-a027-b076538ed046"
      },
      "execution_count": 132,
      "outputs": [
        {
          "output_type": "stream",
          "name": "stdout",
          "text": [
            "      tmp1  tmp2                    0\n",
            "1881 -0.08 -0.13                  NaN\n",
            "1882 -0.11 -0.17                  NaN\n",
            "1883 -0.17 -0.20                  NaN\n",
            "1884 -0.28 -0.24                  NaN\n",
            "1885 -0.33 -0.26                  NaN\n",
            "...    ...   ...                  ...\n",
            "2017   NaN   NaN   673319593022841.75\n",
            "2018   NaN   NaN  715369906175107.875\n",
            "2019   NaN   NaN    725547439367939.0\n",
            "2020   NaN   NaN   703154445622073.75\n",
            "2021   NaN   NaN   802770879405363.75\n",
            "\n",
            "[204 rows x 3 columns]\n"
          ]
        }
      ]
    },
    {
      "cell_type": "code",
      "source": [
        "final_tmp_gdp = tmp_gdp.dropna(axis = 0)\n",
        "print(final_tmp_gdp)"
      ],
      "metadata": {
        "colab": {
          "base_uri": "https://localhost:8080/"
        },
        "id": "Jhrz5Oph3MsC",
        "outputId": "08349bef-eb1b-48f4-d1f4-ca7d36a0e557"
      },
      "execution_count": 133,
      "outputs": [
        {
          "output_type": "stream",
          "name": "stdout",
          "text": [
            "Empty DataFrame\n",
            "Columns: [tmp1, tmp2, 0]\n",
            "Index: []\n"
          ]
        }
      ]
    }
  ]
}