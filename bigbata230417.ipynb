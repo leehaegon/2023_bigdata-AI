{
  "nbformat": 4,
  "nbformat_minor": 0,
  "metadata": {
    "colab": {
      "provenance": [],
      "authorship_tag": "ABX9TyMDryj3Lbd7QdHyrpEaiMcr",
      "include_colab_link": true
    },
    "kernelspec": {
      "name": "python3",
      "display_name": "Python 3"
    },
    "language_info": {
      "name": "python"
    }
  },
  "cells": [
    {
      "cell_type": "markdown",
      "metadata": {
        "id": "view-in-github",
        "colab_type": "text"
      },
      "source": [
        "<a href=\"https://colab.research.google.com/github/leehaegon/bigdata/blob/main/bigbata230417.ipynb\" target=\"_parent\"><img src=\"https://colab.research.google.com/assets/colab-badge.svg\" alt=\"Open In Colab\"/></a>"
      ]
    },
    {
      "cell_type": "code",
      "execution_count": 11,
      "metadata": {
        "colab": {
          "base_uri": "https://localhost:8080/"
        },
        "id": "57Lb6ktc1re2",
        "outputId": "b3ab810b-8039-4110-d0f6-fbcf618b5079"
      },
      "outputs": [
        {
          "output_type": "stream",
          "name": "stdout",
          "text": [
            "0.32\n"
          ]
        }
      ],
      "source": [
        "import numpy as np\n",
        "y = np.array ([1,1,1.7,1.2,1.3,1.5,1.4,1.3,1.1,1.3])\n",
        "y_hat = np.array ([1.9,1.7,1.8,1.9,1.2,1.4,1.5,1.3,1.1,1.8])\n",
        "from sklearn.metrics import mean_absolute_error as mae\n",
        "print(mae(y,y_hat))"
      ]
    },
    {
      "cell_type": "code",
      "source": [
        "from sklearn.metrics import mean_absolute_error as mse\n",
        "print(mse(y,y_hat))"
      ],
      "metadata": {
        "colab": {
          "base_uri": "https://localhost:8080/"
        },
        "id": "THmBXFhrF4zk",
        "outputId": "4199ccaf-c754-4fde-8944-679d304b5532"
      },
      "execution_count": 12,
      "outputs": [
        {
          "output_type": "stream",
          "name": "stdout",
          "text": [
            "0.32\n"
          ]
        }
      ]
    },
    {
      "cell_type": "code",
      "source": [
        "from sklearn.metrics import mean_absolute_error as r2_score\n",
        "print(r2_score(y,y_hat))"
      ],
      "metadata": {
        "colab": {
          "base_uri": "https://localhost:8080/"
        },
        "id": "pKzZ1peuGHay",
        "outputId": "c6c9f9f3-93c0-4119-8dde-d6ee8420a4b7"
      },
      "execution_count": 13,
      "outputs": [
        {
          "output_type": "stream",
          "name": "stdout",
          "text": [
            "0.32\n"
          ]
        }
      ]
    }
  ]
}